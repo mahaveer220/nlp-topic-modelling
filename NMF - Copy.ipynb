{
 "cells": [
  {
   "cell_type": "markdown",
   "id": "29aa7f98",
   "metadata": {},
   "source": [
    "# Introduction to Non-negative Matrix Factorization (NMF)\n",
    "\n",
    "Non-negative Matrix Factorization (NMF) is an unsupervised learning technique extensively used in data mining and machine learning. It specializes in decomposing high-dimensional datasets into their constituent parts, with a unique constraint that all the elements in the matrices involved are non-negative. This feature makes NMF particularly effective for datasets where negativity doesn't have a meaningful interpretation, such as images, text, and gene expression data.\n",
    "\n",
    "## Core Concept\n",
    "\n",
    "The fundamental operation in NMF is the decomposition of a given non-negative data matrix `V` into two lower-dimensional, non-negative matrices `W` and `H`. Represented mathematically as `V ≈ WH`:\n",
    "\n",
    "- `V` is an `m x n` matrix (original data).\n",
    "- `W` is an `m x k` matrix.\n",
    "- `H` is a `k x n` matrix.\n",
    "\n",
    "The goal of NMF is to approximate the original matrix `V` as closely as possible, with the dimension `k` typically being smaller than `m` and `n`, facilitating a reduction in data dimensionality.\n",
    "\n",
    "## Applications of NMF\n",
    "\n",
    "NMF's versatility allows it to be employed in various domains:\n",
    "\n",
    "1. **Topic Modeling in Text Mining**: NMF is adept at discovering latent topics in a collection of documents, interpreting `W` as topics and `H` as the significance of these topics in each document.\n",
    "\n",
    "2. **Image Processing and Analysis**: In the realm of image analysis, NMF assists in identifying patterns or features within images.\n",
    "\n",
    "3. **Recommender Systems**: The technique can be used to develop recommendation systems by decomposing user-item interaction matrices, unveiling latent user preferences and item characteristics.\n",
    "\n",
    "4. **Bioinformatics**: In bioinformatics, NMF plays a crucial role in analyzing gene expression data, aiding in the detection of gene activation patterns across various samples or conditions.\n",
    "\n",
    "## Advantages of NMF\n",
    "\n",
    "NMF's strength lies in its ability to distill meaningful patterns and components from complex datasets. The non-negativity constraint ensures that the decomposed parts have an intuitive representation, often leading to more easily interpretable results than other decomposition methods like Principal Component Analysis (PCA), which do not have this constraint.\n"
   ]
  },
  {
   "cell_type": "markdown",
   "id": "19a48628",
   "metadata": {},
   "source": [
    "## Implementation"
   ]
  },
  {
   "cell_type": "code",
   "execution_count": 1,
   "id": "9ebcabc5",
   "metadata": {},
   "outputs": [],
   "source": [
    "import numpy as np # linear algebra\n",
    "import pandas as pd # data processing, CSV file I/O (e.g. pd.read_csv)\n",
    "from sklearn.feature_extraction.text import ENGLISH_STOP_WORDS\n",
    "import string\n",
    "import re\n",
    "from nltk.stem.snowball import SnowballStemmer\n",
    "from nltk.tokenize import TweetTokenizer, RegexpTokenizer\n",
    "import nltk"
   ]
  },
  {
   "cell_type": "code",
   "execution_count": 9,
   "id": "e39145cb",
   "metadata": {
    "colab": {
     "base_uri": "https://localhost:8080/"
    },
    "id": "e39145cb",
    "outputId": "f434b863-98af-4079-f96c-eee26521eda0"
   },
   "outputs": [
    {
     "data": {
      "text/plain": [
       "0    subject car nntppostinghost organization unive...\n",
       "1    subject si clock poll final call summary final...\n",
       "2    subject pb questions organization purdue unive...\n",
       "3    subject weitek p organization harris computer ...\n",
       "4    subject shuttle launch question organization s...\n",
       "Name: clean_text, dtype: object"
      ]
     },
     "execution_count": 9,
     "metadata": {},
     "output_type": "execute_result"
    }
   ],
   "source": [
    "# Importing preprocessed data\n",
    "\n",
    "file_name = r'preprocessed_csvs\\train_no_simplify.csv'\n",
    "# Load the articles\n",
    "df = pd.read_csv(file_name)\n",
    "df['clean_text'].head()"
   ]
  },
  {
   "cell_type": "markdown",
   "id": "14cab8b0",
   "metadata": {},
   "source": [
    "### Preprocessing\n",
    "\n",
    "Preprocessing steps include tokenization, removing stopwords, and vectorization (using TF-IDF)."
   ]
  },
  {
   "cell_type": "code",
   "execution_count": 10,
   "id": "35cd635b",
   "metadata": {
    "id": "35cd635b"
   },
   "outputs": [],
   "source": [
    "# Contraction map\n",
    "c_dict = {\n",
    "    \"ain't\": \"am not\",\n",
    "    \"aren't\": \"are not\",\n",
    "    \"can't\": \"cannot\",\n",
    "    \"can't've\": \"cannot have\",\n",
    "    \"'cause\": \"because\",\n",
    "    \"could've\": \"could have\",\n",
    "    \"couldn't\": \"could not\",\n",
    "    \"couldn't've\": \"could not have\",\n",
    "    \"didn't\": \"did not\",\n",
    "    \"doesn't\": \"does not\",\n",
    "    \"don't\": \"do not\",\n",
    "    \"hadn't\": \"had not\",\n",
    "    \"hadn't've\": \"had not have\",\n",
    "    \"hasn't\": \"has not\",\n",
    "    \"haven't\": \"have not\",\n",
    "    \"he'd\": \"he would\",\n",
    "    \"he'd've\": \"he would have\",\n",
    "    \"he'll\": \"he will\",\n",
    "    \"he'll've\": \"he will have\",\n",
    "    \"he's\": \"he is\",\n",
    "    \"how'd\": \"how did\",\n",
    "    \"how'd'y\": \"how do you\",\n",
    "    \"how'll\": \"how will\",\n",
    "    \"how's\": \"how is\",\n",
    "    \"i'd\": \"I would\",\n",
    "    \"i'd've\": \"I would have\",\n",
    "    \"i'll\": \"I will\",\n",
    "    \"i'll've\": \"I will have\",\n",
    "    \"i'm\": \"I am\",\n",
    "    \"i've\": \"I have\",\n",
    "    \"isn't\": \"is not\",\n",
    "    \"it'd\": \"it had\",\n",
    "    \"it'd've\": \"it would have\",\n",
    "    \"it'll\": \"it will\",\n",
    "    \"it'll've\": \"it will have\",\n",
    "    \"it's\": \"it is\",\n",
    "    \"let's\": \"let us\",\n",
    "    \"ma'am\": \"madam\",\n",
    "    \"mayn't\": \"may not\",\n",
    "    \"might've\": \"might have\",\n",
    "    \"mightn't\": \"might not\",\n",
    "    \"mightn't've\": \"might not have\",\n",
    "    \"must've\": \"must have\",\n",
    "    \"mustn't\": \"must not\",\n",
    "    \"mustn't've\": \"must not have\",\n",
    "    \"needn't\": \"need not\",\n",
    "    \"needn't've\": \"need not have\",\n",
    "    \"o'clock\": \"of the clock\",\n",
    "    \"oughtn't\": \"ought not\",\n",
    "    \"oughtn't've\": \"ought not have\",\n",
    "    \"shan't\": \"shall not\",\n",
    "    \"sha'n't\": \"shall not\",\n",
    "    \"shan't've\": \"shall not have\",\n",
    "    \"she'd\": \"she would\",\n",
    "    \"she'd've\": \"she would have\",\n",
    "    \"she'll\": \"she will\",\n",
    "    \"she'll've\": \"she will have\",\n",
    "    \"she's\": \"she is\",\n",
    "    \"should've\": \"should have\",\n",
    "    \"shouldn't\": \"should not\",\n",
    "    \"shouldn't've\": \"should not have\",\n",
    "    \"so've\": \"so have\",\n",
    "    \"so's\": \"so is\",\n",
    "    \"that'd\": \"that would\",\n",
    "    \"that'd've\": \"that would have\",\n",
    "    \"that's\": \"that is\",\n",
    "    \"there'd\": \"there had\",\n",
    "    \"there'd've\": \"there would have\",\n",
    "    \"there's\": \"there is\",\n",
    "    \"they'd\": \"they would\",\n",
    "    \"they'd've\": \"they would have\",\n",
    "    \"they'll\": \"they will\",\n",
    "    \"they'll've\": \"they will have\",\n",
    "    \"they're\": \"they are\",\n",
    "    \"they've\": \"they have\",\n",
    "    \"to've\": \"to have\",\n",
    "    \"wasn't\": \"was not\",\n",
    "    \"we'd\": \"we had\",\n",
    "    \"we'd've\": \"we would have\",\n",
    "    \"we'll\": \"we will\",\n",
    "    \"we'll've\": \"we will have\",\n",
    "    \"we're\": \"we are\",\n",
    "    \"we've\": \"we have\",\n",
    "    \"weren't\": \"were not\",\n",
    "    \"what'll\": \"what will\",\n",
    "    \"what'll've\": \"what will have\",\n",
    "    \"what're\": \"what are\",\n",
    "    \"what's\": \"what is\",\n",
    "    \"what've\": \"what have\",\n",
    "    \"when's\": \"when is\",\n",
    "    \"when've\": \"when have\",\n",
    "    \"where'd\": \"where did\",\n",
    "    \"where's\": \"where is\",\n",
    "    \"where've\": \"where have\",\n",
    "    \"who'll\": \"who will\",\n",
    "    \"who'll've\": \"who will have\",\n",
    "    \"who's\": \"who is\",\n",
    "    \"who've\": \"who have\",\n",
    "    \"why's\": \"why is\",\n",
    "    \"why've\": \"why have\",\n",
    "    \"will've\": \"will have\",\n",
    "    \"won't\": \"will not\",\n",
    "    \"won't've\": \"will not have\",\n",
    "    \"would've\": \"would have\",\n",
    "    \"wouldn't\": \"would not\",\n",
    "    \"wouldn't've\": \"would not have\",\n",
    "    \"y'all\": \"you all\",\n",
    "    \"y'alls\": \"you alls\",\n",
    "    \"y'all'd\": \"you all would\",\n",
    "    \"y'all'd've\": \"you all would have\",\n",
    "    \"y'all're\": \"you all are\",\n",
    "    \"y'all've\": \"you all have\",\n",
    "    \"you'd\": \"you had\",\n",
    "    \"you'd've\": \"you would have\",\n",
    "    \"you'll\": \"you you will\",\n",
    "    \"you'll've\": \"you you will have\",\n",
    "    \"you're\": \"you are\",\n",
    "    \"you've\": \"you have\"\n",
    "}\n",
    "\n",
    "# Compiling the contraction dict\n",
    "c_re = re.compile('(%s)' % '|'.join(c_dict.keys()))\n",
    "\n",
    "# List of stop words\n",
    "add_stop = ['said', 'say', '...', 'like', 'cnn', 'ad']\n",
    "stop_words = ENGLISH_STOP_WORDS.union(add_stop)\n",
    "\n",
    "# List of punctuation\n",
    "punc = list(set(string.punctuation))\n",
    "\n",
    "\n",
    "# Splits words on white spaces (leaves contractions intact) and splits out\n",
    "# trailing punctuation\n",
    "def casual_tokenizer(text):\n",
    "    tokenizer = TweetTokenizer()\n",
    "    tokens = tokenizer.tokenize(text)\n",
    "    return tokens\n",
    "\n",
    "\n",
    "def expandContractions(text, c_re=c_re):\n",
    "    def replace(match):\n",
    "        return c_dict[match.group(0)]\n",
    "    return c_re.sub(replace, text)\n",
    "\n",
    "\n",
    "def process_text(text):\n",
    "    text = casual_tokenizer(text)\n",
    "    text = [each.lower() for each in text]\n",
    "    text = [re.sub('[0-9]+', '', each) for each in text]\n",
    "    text = [expandContractions(each, c_re=c_re) for each in text]\n",
    "    text = [SnowballStemmer('english').stem(each) for each in text]\n",
    "    text = [w for w in text if w not in punc]\n",
    "    text = [w for w in text if w not in stop_words]\n",
    "    text = [each for each in text if len(each) > 1]\n",
    "    text = [each for each in text if ' ' not in each]\n",
    "    return text\n",
    "\n",
    "\n",
    "\n",
    "def top_words(topic, n_top_words):\n",
    "    return topic.argsort()[:-n_top_words - 1:-1]\n",
    "\n",
    "\n",
    "def topic_table(model, feature_names, n_top_words):\n",
    "    topics = {}\n",
    "    for topic_idx, topic in enumerate(model.components_):\n",
    "        t = (topic_idx)\n",
    "        topics[t] = [feature_names[i] for i in top_words(topic, n_top_words)]\n",
    "    return pd.DataFrame(topics)\n",
    "\n",
    "\n",
    "def whitespace_tokenizer(text):\n",
    "    pattern = r\"(?u)\\b\\w\\w+\\b\"\n",
    "    tokenizer_regex = RegexpTokenizer(pattern)\n",
    "    tokens = tokenizer_regex.tokenize(text)\n",
    "    return tokens\n",
    "\n",
    "\n",
    "# Funtion to remove duplicate words\n",
    "def unique_words(text):\n",
    "    ulist = []\n",
    "    [ulist.append(x) for x in text if x not in ulist]\n",
    "    return ulist\n",
    "\n",
    "\n",
    "def word_count(text):\n",
    "    return len(str(text).split(' '))\n"
   ]
  },
  {
   "cell_type": "code",
   "execution_count": 17,
   "id": "c902ac76",
   "metadata": {
    "colab": {
     "base_uri": "https://localhost:8080/"
    },
    "id": "c902ac76",
    "outputId": "122982e8-d2f9-4a5c-e474-fddb2f02c25c"
   },
   "outputs": [
    {
     "data": {
      "text/plain": [
       "132.86538801484886"
      ]
     },
     "execution_count": 17,
     "metadata": {},
     "output_type": "execute_result"
    }
   ],
   "source": [
    "df['word_count'] = df['clean_text'].apply(word_count)\n",
    "df['word_count'].mean()"
   ]
  },
  {
   "cell_type": "code",
   "execution_count": 18,
   "id": "7ca6ae60",
   "metadata": {
    "colab": {
     "base_uri": "https://localhost:8080/",
     "height": 293
    },
    "id": "7ca6ae60",
    "outputId": "819e3eab-7219-4ddc-bca3-aa553d892e96",
    "scrolled": false
   },
   "outputs": [
    {
     "data": {
      "text/html": [
       "<div>\n",
       "<style scoped>\n",
       "    .dataframe tbody tr th:only-of-type {\n",
       "        vertical-align: middle;\n",
       "    }\n",
       "\n",
       "    .dataframe tbody tr th {\n",
       "        vertical-align: top;\n",
       "    }\n",
       "\n",
       "    .dataframe thead th {\n",
       "        text-align: right;\n",
       "    }\n",
       "</style>\n",
       "<table border=\"1\" class=\"dataframe\">\n",
       "  <thead>\n",
       "    <tr style=\"text-align: right;\">\n",
       "      <th></th>\n",
       "      <th>text</th>\n",
       "      <th>category</th>\n",
       "      <th>clean_text</th>\n",
       "      <th>word_count</th>\n",
       "      <th>processed_text</th>\n",
       "    </tr>\n",
       "  </thead>\n",
       "  <tbody>\n",
       "    <tr>\n",
       "      <th>0</th>\n",
       "      <td>From: lerxst@wam.umd.edu (where's my thing)\\nS...</td>\n",
       "      <td>7</td>\n",
       "      <td>subject car nntppostinghost organization unive...</td>\n",
       "      <td>56</td>\n",
       "      <td>[subject, car, nntppostinghost, organ, univers...</td>\n",
       "    </tr>\n",
       "    <tr>\n",
       "      <th>1</th>\n",
       "      <td>From: guykuo@carson.u.washington.edu (Guy Kuo)...</td>\n",
       "      <td>4</td>\n",
       "      <td>subject si clock poll final call summary final...</td>\n",
       "      <td>72</td>\n",
       "      <td>[subject, si, clock, poll, final, summari, fin...</td>\n",
       "    </tr>\n",
       "    <tr>\n",
       "      <th>2</th>\n",
       "      <td>From: twillis@ec.ecn.purdue.edu (Thomas E Will...</td>\n",
       "      <td>4</td>\n",
       "      <td>subject pb questions organization purdue unive...</td>\n",
       "      <td>158</td>\n",
       "      <td>[subject, pb, question, organ, purdu, univers,...</td>\n",
       "    </tr>\n",
       "    <tr>\n",
       "      <th>3</th>\n",
       "      <td>From: jgreen@amber (Joe Green)\\nSubject: Re: W...</td>\n",
       "      <td>1</td>\n",
       "      <td>subject weitek p organization harris computer ...</td>\n",
       "      <td>61</td>\n",
       "      <td>[subject, weitek, organ, harri, comput, divis,...</td>\n",
       "    </tr>\n",
       "    <tr>\n",
       "      <th>4</th>\n",
       "      <td>From: jcm@head-cfa.harvard.edu (Jonathan McDow...</td>\n",
       "      <td>14</td>\n",
       "      <td>subject shuttle launch question organization s...</td>\n",
       "      <td>77</td>\n",
       "      <td>[subject, shuttl, launch, question, organ, smi...</td>\n",
       "    </tr>\n",
       "  </tbody>\n",
       "</table>\n",
       "</div>"
      ],
      "text/plain": [
       "                                                text  category  \\\n",
       "0  From: lerxst@wam.umd.edu (where's my thing)\\nS...         7   \n",
       "1  From: guykuo@carson.u.washington.edu (Guy Kuo)...         4   \n",
       "2  From: twillis@ec.ecn.purdue.edu (Thomas E Will...         4   \n",
       "3  From: jgreen@amber (Joe Green)\\nSubject: Re: W...         1   \n",
       "4  From: jcm@head-cfa.harvard.edu (Jonathan McDow...        14   \n",
       "\n",
       "                                          clean_text  word_count  \\\n",
       "0  subject car nntppostinghost organization unive...          56   \n",
       "1  subject si clock poll final call summary final...          72   \n",
       "2  subject pb questions organization purdue unive...         158   \n",
       "3  subject weitek p organization harris computer ...          61   \n",
       "4  subject shuttle launch question organization s...          77   \n",
       "\n",
       "                                      processed_text  \n",
       "0  [subject, car, nntppostinghost, organ, univers...  \n",
       "1  [subject, si, clock, poll, final, summari, fin...  \n",
       "2  [subject, pb, question, organ, purdu, univers,...  \n",
       "3  [subject, weitek, organ, harri, comput, divis,...  \n",
       "4  [subject, shuttl, launch, question, organ, smi...  "
      ]
     },
     "execution_count": 18,
     "metadata": {},
     "output_type": "execute_result"
    }
   ],
   "source": [
    "df = df.dropna()\n",
    "df['processed_text'] = df['clean_text'].apply(process_text)\n",
    "df.head()"
   ]
  },
  {
   "cell_type": "code",
   "execution_count": 19,
   "id": "4c5686e6",
   "metadata": {
    "colab": {
     "base_uri": "https://localhost:8080/"
    },
    "id": "4c5686e6",
    "outputId": "b9682c92-7959-4c66-d50d-2a0d4e8ae3dc"
   },
   "outputs": [
    {
     "data": {
      "text/plain": [
       "count    11314.000000\n",
       "mean       132.865388\n",
       "std        259.615968\n",
       "min          6.000000\n",
       "25%         51.000000\n",
       "50%         81.000000\n",
       "75%        132.000000\n",
       "max       5925.000000\n",
       "Name: word_count, dtype: float64"
      ]
     },
     "execution_count": 19,
     "metadata": {},
     "output_type": "execute_result"
    }
   ],
   "source": [
    "df['word_count'].describe()"
   ]
  },
  {
   "cell_type": "code",
   "execution_count": 20,
   "id": "02c3a56f",
   "metadata": {
    "id": "02c3a56f"
   },
   "outputs": [],
   "source": [
    "df.to_csv('train_before_plot.csv', index=False)"
   ]
  },
  {
   "cell_type": "markdown",
   "id": "e0aa7954",
   "metadata": {},
   "source": [
    "#### Statistical Analysis of the training data"
   ]
  },
  {
   "cell_type": "code",
   "execution_count": 21,
   "id": "ada506fa",
   "metadata": {
    "colab": {
     "base_uri": "https://localhost:8080/",
     "height": 726
    },
    "id": "ada506fa",
    "outputId": "a633582c-fca8-4472-9b63-8630cc182537"
   },
   "outputs": [
    {
     "data": {
      "image/png": "[encoded data removed]",
      "text/plain": [
       "<Figure size 864x576 with 1 Axes>"
      ]
     },
     "metadata": {},
     "output_type": "display_data"
    }
   ],
   "source": [
    "#Statistical analysis of the training data\n",
    "\n",
    "import matplotlib.pyplot as plt\n",
    "\n",
    "# Setting a maximum word count limit based on a specific percentile, e.g., 95th percentile\n",
    "percentile_limit = 95\n",
    "max_limit = df['word_count'].quantile(percentile_limit / 100)\n",
    "\n",
    "# Creating a histogram with this limit\n",
    "plt.figure(figsize=(12, 8))\n",
    "\n",
    "# Adjusting the number of bins\n",
    "bins_number = 100\n",
    "\n",
    "plt.hist(df['word_count'][df['word_count'] <= max_limit], bins=bins_number, color='purple', edgecolor='black')\n",
    "plt.grid(axis='y', alpha=0.75)\n",
    "\n",
    "plt.xlabel('Word Count', fontsize=15)\n",
    "plt.ylabel('Frequency', fontsize=15)\n",
    "plt.title(f'Histogram of Word Count (Up to {percentile_limit}th Percentile)', fontsize=18)\n",
    "\n",
    "plt.show()\n"
   ]
  },
  {
   "cell_type": "code",
   "execution_count": 22,
   "id": "14a6d1a6",
   "metadata": {
    "colab": {
     "base_uri": "https://localhost:8080/",
     "height": 701
    },
    "id": "14a6d1a6",
    "outputId": "292ae63f-bdf9-4b10-ce3f-13c364623a95"
   },
   "outputs": [
    {
     "name": "stderr",
     "output_type": "stream",
     "text": [
      "C:\\Users\\narne\\anaconda3\\lib\\site-packages\\seaborn\\_decorators.py:36: FutureWarning: Pass the following variable as a keyword arg: x. From version 0.12, the only valid positional argument will be `data`, and passing other arguments without an explicit keyword will result in an error or misinterpretation.\n",
      "  warnings.warn(\n",
      "C:\\Users\\narne\\anaconda3\\lib\\site-packages\\seaborn\\_core.py:1326: UserWarning: Vertical orientation ignored with only `x` specified.\n",
      "  warnings.warn(single_var_warning.format(\"Vertical\", \"x\"))\n"
     ]
    },
    {
     "data": {
      "image/png": "[encoded data removed]",
      "text/plain": [
       "<Figure size 432x576 with 1 Axes>"
      ]
     },
     "metadata": {},
     "output_type": "display_data"
    }
   ],
   "source": [
    "# Box plot to understand the distribution of data\n",
    "\n",
    "import seaborn as sns\n",
    "import numpy as np\n",
    "\n",
    "# Setting the y-axis range based on the percentiles, similar to the previous histogram\n",
    "max_y_limit = df['word_count'].quantile(0.95)\n",
    "\n",
    "# Plotting the boxplot with adjustments\n",
    "fig = plt.figure(figsize=(6, 8))  # Adjusted figure size for better visibility\n",
    "\n",
    "sns.boxplot(\n",
    "    df['word_count'][df['word_count'] <= max_y_limit],\n",
    "    orient='v',\n",
    "    width=.5,\n",
    "    color='#ff8080'\n",
    ")\n",
    "\n",
    "plt.ylabel(\"Word Count\", fontsize=12)\n",
    "plt.title('Distribution - Article Word Count', fontsize=16)\n",
    "plt.yticks(np.arange(0, int(max_y_limit) + 100, 100))  # Adjusting the y-ticks\n",
    "\n",
    "plt.show()\n"
   ]
  },
  {
   "cell_type": "code",
   "execution_count": 23,
   "id": "1291aff7",
   "metadata": {
    "colab": {
     "base_uri": "https://localhost:8080/",
     "height": 676
    },
    "id": "1291aff7",
    "outputId": "5af0df81-2f13-4c04-f3ae-93f326c13e15"
   },
   "outputs": [
    {
     "data": {
      "text/html": [
       "<div>\n",
       "<style scoped>\n",
       "    .dataframe tbody tr th:only-of-type {\n",
       "        vertical-align: middle;\n",
       "    }\n",
       "\n",
       "    .dataframe tbody tr th {\n",
       "        vertical-align: top;\n",
       "    }\n",
       "\n",
       "    .dataframe thead th {\n",
       "        text-align: right;\n",
       "    }\n",
       "</style>\n",
       "<table border=\"1\" class=\"dataframe\">\n",
       "  <thead>\n",
       "    <tr style=\"text-align: right;\">\n",
       "      <th></th>\n",
       "      <th>word</th>\n",
       "      <th>frequency</th>\n",
       "    </tr>\n",
       "  </thead>\n",
       "  <tbody>\n",
       "    <tr>\n",
       "      <th>0</th>\n",
       "      <td>line</td>\n",
       "      <td>12913</td>\n",
       "    </tr>\n",
       "    <tr>\n",
       "      <th>1</th>\n",
       "      <td>subject</td>\n",
       "      <td>12374</td>\n",
       "    </tr>\n",
       "    <tr>\n",
       "      <th>2</th>\n",
       "      <td>organ</td>\n",
       "      <td>11646</td>\n",
       "    </tr>\n",
       "    <tr>\n",
       "      <th>3</th>\n",
       "      <td>use</td>\n",
       "      <td>8885</td>\n",
       "    </tr>\n",
       "    <tr>\n",
       "      <th>4</th>\n",
       "      <td>write</td>\n",
       "      <td>8745</td>\n",
       "    </tr>\n",
       "    <tr>\n",
       "      <th>5</th>\n",
       "      <td>articl</td>\n",
       "      <td>6963</td>\n",
       "    </tr>\n",
       "    <tr>\n",
       "      <th>6</th>\n",
       "      <td>peopl</td>\n",
       "      <td>5905</td>\n",
       "    </tr>\n",
       "    <tr>\n",
       "      <th>7</th>\n",
       "      <td>univers</td>\n",
       "      <td>5887</td>\n",
       "    </tr>\n",
       "    <tr>\n",
       "      <th>8</th>\n",
       "      <td>know</td>\n",
       "      <td>5628</td>\n",
       "    </tr>\n",
       "    <tr>\n",
       "      <th>9</th>\n",
       "      <td>think</td>\n",
       "      <td>4932</td>\n",
       "    </tr>\n",
       "    <tr>\n",
       "      <th>10</th>\n",
       "      <td>time</td>\n",
       "      <td>4782</td>\n",
       "    </tr>\n",
       "    <tr>\n",
       "      <th>11</th>\n",
       "      <td>nntppostinghost</td>\n",
       "      <td>4716</td>\n",
       "    </tr>\n",
       "    <tr>\n",
       "      <th>12</th>\n",
       "      <td>make</td>\n",
       "      <td>4231</td>\n",
       "    </tr>\n",
       "    <tr>\n",
       "      <th>13</th>\n",
       "      <td>work</td>\n",
       "      <td>3884</td>\n",
       "    </tr>\n",
       "    <tr>\n",
       "      <th>14</th>\n",
       "      <td>new</td>\n",
       "      <td>3729</td>\n",
       "    </tr>\n",
       "    <tr>\n",
       "      <th>15</th>\n",
       "      <td>year</td>\n",
       "      <td>3691</td>\n",
       "    </tr>\n",
       "    <tr>\n",
       "      <th>16</th>\n",
       "      <td>good</td>\n",
       "      <td>3632</td>\n",
       "    </tr>\n",
       "    <tr>\n",
       "      <th>17</th>\n",
       "      <td>way</td>\n",
       "      <td>3519</td>\n",
       "    </tr>\n",
       "    <tr>\n",
       "      <th>18</th>\n",
       "      <td>want</td>\n",
       "      <td>3513</td>\n",
       "    </tr>\n",
       "    <tr>\n",
       "      <th>19</th>\n",
       "      <td>right</td>\n",
       "      <td>3429</td>\n",
       "    </tr>\n",
       "  </tbody>\n",
       "</table>\n",
       "</div>"
      ],
      "text/plain": [
       "               word  frequency\n",
       "0              line      12913\n",
       "1           subject      12374\n",
       "2             organ      11646\n",
       "3               use       8885\n",
       "4             write       8745\n",
       "5            articl       6963\n",
       "6             peopl       5905\n",
       "7           univers       5887\n",
       "8              know       5628\n",
       "9             think       4932\n",
       "10             time       4782\n",
       "11  nntppostinghost       4716\n",
       "12             make       4231\n",
       "13             work       3884\n",
       "14              new       3729\n",
       "15             year       3691\n",
       "16             good       3632\n",
       "17              way       3519\n",
       "18             want       3513\n",
       "19            right       3429"
      ]
     },
     "execution_count": 23,
     "metadata": {},
     "output_type": "execute_result"
    }
   ],
   "source": [
    "# Top words in the dataset\n",
    "from collections import Counter\n",
    "p_text = df['processed_text']\n",
    "\n",
    "# Flaten the list of lists\n",
    "p_text = [item for sublist in p_text for item in sublist]\n",
    "\n",
    "# Top 20\n",
    "top_20 = pd.DataFrame(\n",
    "    Counter(p_text).most_common(20),\n",
    "    columns=['word', 'frequency']\n",
    ")\n",
    "\n",
    "top_20"
   ]
  },
  {
   "cell_type": "code",
   "execution_count": 24,
   "id": "fb4a7af1",
   "metadata": {
    "colab": {
     "base_uri": "https://localhost:8080/",
     "height": 468
    },
    "id": "fb4a7af1",
    "outputId": "c2c276fc-a564-4025-fe0c-8a19a9263e03"
   },
   "outputs": [
    {
     "data": {
      "image/png": "[encoded data removed]",
      "text/plain": [
       "<Figure size 1440x504 with 1 Axes>"
      ]
     },
     "metadata": {},
     "output_type": "display_data"
    }
   ],
   "source": [
    "# Plot a bar chart for the top 20 most frequently occuring words\n",
    "fig = plt.figure(figsize=(20,7))\n",
    "\n",
    "g = sns.barplot(\n",
    "    x='word',\n",
    "    y='frequency',\n",
    "    data=top_20,\n",
    "    palette='GnBu_d'\n",
    ")\n",
    "\n",
    "g.set_xticklabels(\n",
    "    g.get_xticklabels(),\n",
    "    rotation=45,\n",
    "    fontsize=14\n",
    ")\n",
    "\n",
    "plt.yticks(fontsize=14)\n",
    "plt.xlabel('Words', fontsize=14)\n",
    "plt.ylabel('Frequency', fontsize=14)\n",
    "plt.title('Top 20 Words', fontsize=17)\n",
    "plt.show()"
   ]
  },
  {
   "cell_type": "code",
   "execution_count": 25,
   "id": "ebc751df",
   "metadata": {
    "colab": {
     "base_uri": "https://localhost:8080/"
    },
    "id": "ebc751df",
    "outputId": "b2fc7305-7e51-490b-e21d-be89972b5fdb"
   },
   "outputs": [
    {
     "data": {
      "text/plain": [
       "69625"
      ]
     },
     "execution_count": 25,
     "metadata": {},
     "output_type": "execute_result"
    }
   ],
   "source": [
    "# Get the number of unique words after processing\n",
    "num_unique_words = len(set(p_text))\n",
    "num_unique_words"
   ]
  },
  {
   "cell_type": "markdown",
   "id": "0829bdb1",
   "metadata": {},
   "source": [
    "#### Applying NMF for Topic Modeling: \n",
    "This section contains the core of applying NMF for topic modeling. NMF is a technique used to decompose a matrix into two smaller matrices, which in the context of text data, can help in identifying latent topics present in the documents."
   ]
  },
  {
   "cell_type": "code",
   "execution_count": 26,
   "id": "7f5c21ab",
   "metadata": {
    "id": "7f5c21ab"
   },
   "outputs": [],
   "source": [
    "import numpy as np # linear algebra\n",
    "import pandas as pd # data processing, CSV file I/O (e.g. pd.read_csv)\n",
    "from sklearn.decomposition import NMF\n",
    "from sklearn.feature_extraction.text import TfidfVectorizer\n",
    "from gensim.models.coherencemodel import CoherenceModel\n",
    "from gensim.corpora.dictionary import Dictionary\n",
    "from gensim.models.nmf import Nmf\n",
    "from collections import Counter\n",
    "from operator import itemgetter\n",
    "import matplotlib.pyplot as plt\n",
    "import seaborn as sns\n",
    "sns.set_style('darkgrid')"
   ]
  },
  {
   "cell_type": "code",
   "execution_count": 27,
   "id": "1775246e",
   "metadata": {
    "id": "1775246e"
   },
   "outputs": [],
   "source": [
    "texts = df['processed_text']\n",
    "tfidf_vectorizer = TfidfVectorizer(\n",
    "    min_df=3,\n",
    "    max_df=0.85,\n",
    "    max_features=5000,\n",
    "    ngram_range=(1, 2),\n",
    "    preprocessor=' '.join\n",
    ")\n",
    "tfidf = tfidf_vectorizer.fit_transform(texts)"
   ]
  },
  {
   "cell_type": "code",
   "execution_count": 28,
   "id": "21e8fbcb",
   "metadata": {
    "id": "21e8fbcb"
   },
   "outputs": [],
   "source": [
    "nmf = NMF(\n",
    "    n_components=20,\n",
    "    init='nndsvd',\n",
    "    max_iter=500,  # Increased from the default 200\n",
    "    tol=1e-4\n",
    ").fit(tfidf)"
   ]
  },
  {
   "cell_type": "code",
   "execution_count": 29,
   "id": "C6l8Ncr2mSZp",
   "metadata": {
    "colab": {
     "base_uri": "https://localhost:8080/"
    },
    "id": "C6l8Ncr2mSZp",
    "outputId": "19e292c0-93ba-4d35-f319-bab6e40b1480"
   },
   "outputs": [
    {
     "name": "stdout",
     "output_type": "stream",
     "text": [
      "(11314, 5000)\n"
     ]
    }
   ],
   "source": [
    "print(tfidf.shape)"
   ]
  },
  {
   "cell_type": "code",
   "execution_count": 30,
   "id": "b66829a4",
   "metadata": {
    "id": "b66829a4",
    "outputId": "d8fb013f-51a8-414e-e2a7-0ae8d431261f"
   },
   "outputs": [
    {
     "data": {
      "image/png": "[encoded data removed]",
      "text/plain": [
       "<Figure size 1080x504 with 1 Axes>"
      ]
     },
     "metadata": {},
     "output_type": "display_data"
    }
   ],
   "source": [
    "# Use Gensim's NMF to get the best num of topics via coherence score\n",
    "texts = df['processed_text']\n",
    "\n",
    "# Create a dictionary\n",
    "# In gensim a dictionary is a mapping between words and their integer id\n",
    "dictionary = Dictionary(texts)\n",
    "\n",
    "# Filter out extremes to limit the number of features\n",
    "dictionary.filter_extremes(\n",
    "    no_below=3,\n",
    "    no_above=0.85,\n",
    "    keep_n=5000\n",
    ")\n",
    "\n",
    "# Create the bag-of-words format (list of (token_id, token_count))\n",
    "corpus = [dictionary.doc2bow(text) for text in texts]\n",
    "\n",
    "# Create a list of the topic numbers we want to try\n",
    "topic_nums = list(np.arange(5, 75 + 1, 5))\n",
    "\n",
    "# Run the nmf model and calculate the coherence score\n",
    "# for each number of topics\n",
    "coherence_scores = []\n",
    "\n",
    "for num in topic_nums:\n",
    "    nmf = Nmf(\n",
    "        corpus=corpus,\n",
    "        num_topics=num,\n",
    "        id2word=dictionary,\n",
    "        chunksize=2000,\n",
    "        passes=5,\n",
    "        kappa=.1,\n",
    "        minimum_probability=0.01,\n",
    "        w_max_iter=300,\n",
    "        w_stop_condition=0.0001,\n",
    "        h_max_iter=100,\n",
    "        h_stop_condition=0.001,\n",
    "        eval_every=10,\n",
    "        normalize=True,\n",
    "        random_state=42\n",
    "    )\n",
    "\n",
    "    # Run the coherence model to get the score\n",
    "    cm = CoherenceModel(\n",
    "        model=nmf,\n",
    "        texts=texts,\n",
    "        dictionary=dictionary,\n",
    "        coherence='c_v'\n",
    "    )\n",
    "\n",
    "    coherence_scores.append(round(cm.get_coherence(), 5))\n",
    "\n",
    "# Get the number of topics with the highest coherence score\n",
    "scores = list(zip(topic_nums, coherence_scores))\n",
    "best_num_topics = sorted(scores, key=itemgetter(1), reverse=True)[0][0]\n",
    "\n",
    "# Plot the results\n",
    "fig = plt.figure(figsize=(15, 7))\n",
    "\n",
    "plt.plot(\n",
    "    topic_nums,\n",
    "    coherence_scores,\n",
    "    linewidth=3,\n",
    "    color='#4287f5'\n",
    ")\n",
    "\n",
    "plt.xlabel(\"Topic Num\", fontsize=14)\n",
    "plt.ylabel(\"Coherence Score\", fontsize=14)\n",
    "plt.title('Coherence Score by Topic Number - Best Number of Topics: {}'.format(best_num_topics), fontsize=18)\n",
    "plt.xticks(np.arange(5, max(topic_nums) + 1, 5), fontsize=12)\n",
    "plt.yticks(fontsize=12)\n",
    "\n",
    "plt.show()\n"
   ]
  },
  {
   "cell_type": "code",
   "execution_count": 32,
   "id": "8b33df46",
   "metadata": {
    "colab": {
     "base_uri": "https://localhost:8080/",
     "height": 293
    },
    "id": "8b33df46",
    "outputId": "e9f5f2c8-f432-46a7-fdee-ae0ad955266d"
   },
   "outputs": [
    {
     "data": {
      "text/html": [
       "<div>\n",
       "<style scoped>\n",
       "    .dataframe tbody tr th:only-of-type {\n",
       "        vertical-align: middle;\n",
       "    }\n",
       "\n",
       "    .dataframe tbody tr th {\n",
       "        vertical-align: top;\n",
       "    }\n",
       "\n",
       "    .dataframe thead th {\n",
       "        text-align: right;\n",
       "    }\n",
       "</style>\n",
       "<table border=\"1\" class=\"dataframe\">\n",
       "  <thead>\n",
       "    <tr style=\"text-align: right;\">\n",
       "      <th></th>\n",
       "      <th>text</th>\n",
       "      <th>category</th>\n",
       "      <th>clean_text</th>\n",
       "      <th>processed_text</th>\n",
       "    </tr>\n",
       "  </thead>\n",
       "  <tbody>\n",
       "    <tr>\n",
       "      <th>0</th>\n",
       "      <td>From: v064mb9k@ubvmsd.cc.buffalo.edu (NEIL B. ...</td>\n",
       "      <td>7</td>\n",
       "      <td>subject need info bonnevil organization univer...</td>\n",
       "      <td>[subject, need, info, bonnevil, organ, univ, b...</td>\n",
       "    </tr>\n",
       "    <tr>\n",
       "      <th>1</th>\n",
       "      <td>From: Rick Miller &lt;rick@ee.uwm.edu&gt;\\nSubject: ...</td>\n",
       "      <td>5</td>\n",
       "      <td>rick miller subject xface organization lines d...</td>\n",
       "      <td>[rick, miller, subject, xface, organ, line, di...</td>\n",
       "    </tr>\n",
       "    <tr>\n",
       "      <th>2</th>\n",
       "      <td>From: mathew &lt;mathew@mantis.co.uk&gt;\\nSubject: R...</td>\n",
       "      <td>0</td>\n",
       "      <td>mathew subject strong weak atheism organizatio...</td>\n",
       "      <td>[mathew, subject, strong, weak, atheism, organ...</td>\n",
       "    </tr>\n",
       "    <tr>\n",
       "      <th>3</th>\n",
       "      <td>From: bakken@cs.arizona.edu (Dave Bakken)\\nSub...</td>\n",
       "      <td>17</td>\n",
       "      <td>subject saudi debut human right group keywords...</td>\n",
       "      <td>[subject, saudi, debut, human, right, group, k...</td>\n",
       "    </tr>\n",
       "    <tr>\n",
       "      <th>4</th>\n",
       "      <td>From: livesey@solntze.wpd.sgi.com (Jon Livesey...</td>\n",
       "      <td>19</td>\n",
       "      <td>subject years say christian moral organization...</td>\n",
       "      <td>[subject, year, christian, moral, organ, sgi, ...</td>\n",
       "    </tr>\n",
       "  </tbody>\n",
       "</table>\n",
       "</div>"
      ],
      "text/plain": [
       "                                                text  category  \\\n",
       "0  From: v064mb9k@ubvmsd.cc.buffalo.edu (NEIL B. ...         7   \n",
       "1  From: Rick Miller <rick@ee.uwm.edu>\\nSubject: ...         5   \n",
       "2  From: mathew <mathew@mantis.co.uk>\\nSubject: R...         0   \n",
       "3  From: bakken@cs.arizona.edu (Dave Bakken)\\nSub...        17   \n",
       "4  From: livesey@solntze.wpd.sgi.com (Jon Livesey...        19   \n",
       "\n",
       "                                          clean_text  \\\n",
       "0  subject need info bonnevil organization univer...   \n",
       "1  rick miller subject xface organization lines d...   \n",
       "2  mathew subject strong weak atheism organizatio...   \n",
       "3  subject saudi debut human right group keywords...   \n",
       "4  subject years say christian moral organization...   \n",
       "\n",
       "                                      processed_text  \n",
       "0  [subject, need, info, bonnevil, organ, univ, b...  \n",
       "1  [rick, miller, subject, xface, organ, line, di...  \n",
       "2  [mathew, subject, strong, weak, atheism, organ...  \n",
       "3  [subject, saudi, debut, human, right, group, k...  \n",
       "4  [subject, year, christian, moral, organ, sgi, ...  "
      ]
     },
     "execution_count": 32,
     "metadata": {},
     "output_type": "execute_result"
    }
   ],
   "source": [
    "test_file = 'preprocessed_csvs/test.csv'\n",
    "# Load the articles\n",
    "td = pd.read_csv(test_file)\n",
    "td['clean_text'].head()\n",
    "td = td.dropna()\n",
    "td['processed_text'] = td['clean_text'].apply(process_text)\n",
    "td.head()"
   ]
  },
  {
   "cell_type": "markdown",
   "id": "4c2501e1",
   "metadata": {},
   "source": [
    "#### Analyzing and Visualizing Topics: \n",
    "After applying NMF, lets analyze the topics identified. This involves looking at the top words in each topic, understanding their distribution, and visualizing UMap to see how the model is performing."
   ]
  },
  {
   "cell_type": "code",
   "execution_count": 33,
   "id": "b2f8bd79",
   "metadata": {
    "id": "b2f8bd79"
   },
   "outputs": [],
   "source": [
    "nmf = NMF(\n",
    "    n_components=20,  # Set your desired number of topics here\n",
    "    init='nndsvd',\n",
    "    max_iter=500,  # You can adjust this as needed\n",
    "    tol=1e-4\n",
    ").fit(tfidf)\n"
   ]
  },
  {
   "cell_type": "code",
   "execution_count": 34,
   "id": "224e3ca2",
   "metadata": {
    "id": "224e3ca2"
   },
   "outputs": [],
   "source": [
    "# Step 1: Vectorize the test data\n",
    "td_tfidf = tfidf_vectorizer.transform(td['processed_text'])\n",
    "\n",
    "# Step 2: Transform the test data with NMF\n",
    "td_nmf = nmf.transform(td_tfidf)\n",
    "\n",
    "# Step 3: Interpret the result\n",
    "# Example: Extracting the most dominant topic for each document\n",
    "import numpy as np\n",
    "td['dominant_topic'] = np.argmax(td_nmf, axis=1)\n"
   ]
  },
  {
   "cell_type": "code",
   "execution_count": 35,
   "id": "0YGScFQXoaNL",
   "metadata": {
    "colab": {
     "base_uri": "https://localhost:8080/"
    },
    "id": "0YGScFQXoaNL",
    "outputId": "db2061de-8bbb-4e26-b084-150c4675505b"
   },
   "outputs": [
    {
     "name": "stdout",
     "output_type": "stream",
     "text": [
      "(7532, 20)\n"
     ]
    }
   ],
   "source": [
    "print(td_nmf.shape)"
   ]
  },
  {
   "cell_type": "code",
   "execution_count": 36,
   "id": "1p31nMOJs4PD",
   "metadata": {
    "colab": {
     "base_uri": "https://localhost:8080/"
    },
    "id": "1p31nMOJs4PD",
    "outputId": "936c7063-7a5a-4917-d0b1-9566abd0d8d1"
   },
   "outputs": [
    {
     "name": "stdout",
     "output_type": "stream",
     "text": [
      "Collecting umap\n",
      "  Downloading umap-0.1.1.tar.gz (3.2 kB)\n",
      "Building wheels for collected packages: umap\n",
      "  Building wheel for umap (setup.py): started\n",
      "  Building wheel for umap (setup.py): finished with status 'done'\n",
      "  Created wheel for umap: filename=umap-0.1.1-py3-none-any.whl size=3564 sha256=92cb9aec8f1dadea4b057797f5ce2d691091fb072b52d4dd4e2b2dcb4cc8d22a\n",
      "  Stored in directory: c:\\users\\narne\\appdata\\local\\pip\\cache\\wheels\\72\\1e\\42\\a9322736ec046a637487005e6b84c94617d9ac0bdb5159eeb7\n",
      "Successfully built umap\n",
      "Installing collected packages: umap\n",
      "Successfully installed umap-0.1.1\n"
     ]
    },
    {
     "name": "stderr",
     "output_type": "stream",
     "text": [
      "WARNING: Ignoring invalid distribution -ycryptodome (c:\\users\\narne\\anaconda3\\lib\\site-packages)\n",
      "WARNING: Ignoring invalid distribution -rotobuf (c:\\users\\narne\\anaconda3\\lib\\site-packages)\n",
      "WARNING: Ignoring invalid distribution -ycryptodome (c:\\users\\narne\\anaconda3\\lib\\site-packages)\n",
      "WARNING: Ignoring invalid distribution -rotobuf (c:\\users\\narne\\anaconda3\\lib\\site-packages)\n",
      "WARNING: Ignoring invalid distribution -ycryptodome (c:\\users\\narne\\anaconda3\\lib\\site-packages)\n",
      "WARNING: Ignoring invalid distribution -rotobuf (c:\\users\\narne\\anaconda3\\lib\\site-packages)\n",
      "WARNING: Ignoring invalid distribution -ycryptodome (c:\\users\\narne\\anaconda3\\lib\\site-packages)\n",
      "WARNING: Ignoring invalid distribution -rotobuf (c:\\users\\narne\\anaconda3\\lib\\site-packages)\n",
      "WARNING: Ignoring invalid distribution -ycryptodome (c:\\users\\narne\\anaconda3\\lib\\site-packages)\n",
      "WARNING: Ignoring invalid distribution -rotobuf (c:\\users\\narne\\anaconda3\\lib\\site-packages)\n",
      "WARNING: Ignoring invalid distribution -ycryptodome (c:\\users\\narne\\anaconda3\\lib\\site-packages)\n",
      "WARNING: Ignoring invalid distribution -rotobuf (c:\\users\\narne\\anaconda3\\lib\\site-packages)\n",
      "WARNING: Ignoring invalid distribution -ycryptodome (c:\\users\\narne\\anaconda3\\lib\\site-packages)\n",
      "WARNING: Ignoring invalid distribution -rotobuf (c:\\users\\narne\\anaconda3\\lib\\site-packages)\n"
     ]
    },
    {
     "name": "stdout",
     "output_type": "stream",
     "text": [
      "Collecting umap-learn\n",
      "  Downloading umap-learn-0.5.5.tar.gz (90 kB)\n",
      "Requirement already satisfied: numpy>=1.17 in c:\\users\\narne\\anaconda3\\lib\\site-packages (from umap-learn) (1.20.3)\n",
      "Requirement already satisfied: scipy>=1.3.1 in c:\\users\\narne\\anaconda3\\lib\\site-packages (from umap-learn) (1.7.1)\n",
      "Requirement already satisfied: scikit-learn>=0.22 in c:\\users\\narne\\anaconda3\\lib\\site-packages (from umap-learn) (0.24.2)\n",
      "Requirement already satisfied: numba>=0.51.2 in c:\\users\\narne\\anaconda3\\lib\\site-packages (from umap-learn) (0.54.1)\n",
      "Collecting pynndescent>=0.5\n",
      "  Downloading pynndescent-0.5.11-py3-none-any.whl (55 kB)\n",
      "Requirement already satisfied: tqdm in c:\\users\\narne\\anaconda3\\lib\\site-packages (from umap-learn) (4.65.0)\n",
      "Requirement already satisfied: setuptools in c:\\users\\narne\\anaconda3\\lib\\site-packages (from numba>=0.51.2->umap-learn) (58.0.4)\n",
      "Requirement already satisfied: llvmlite<0.38,>=0.37.0rc1 in c:\\users\\narne\\anaconda3\\lib\\site-packages (from numba>=0.51.2->umap-learn) (0.37.0)\n",
      "Requirement already satisfied: joblib>=0.11 in c:\\users\\narne\\anaconda3\\lib\\site-packages (from pynndescent>=0.5->umap-learn) (1.1.0)\n",
      "Requirement already satisfied: threadpoolctl>=2.0.0 in c:\\users\\narne\\anaconda3\\lib\\site-packages (from scikit-learn>=0.22->umap-learn) (2.2.0)\n",
      "Requirement already satisfied: colorama in c:\\users\\narne\\anaconda3\\lib\\site-packages (from tqdm->umap-learn) (0.4.4)\n",
      "Building wheels for collected packages: umap-learn\n",
      "  Building wheel for umap-learn (setup.py): started\n",
      "  Building wheel for umap-learn (setup.py): finished with status 'done'\n",
      "  Created wheel for umap-learn: filename=umap_learn-0.5.5-py3-none-any.whl size=86854 sha256=4b6a7263887407f7f2d77a2177185e34ef83be10b8cef600a289496a8ed92675\n",
      "  Stored in directory: c:\\users\\narne\\appdata\\local\\pip\\cache\\wheels\\0f\\01\\17\\26951217a11fb724b7027c6dd5b620b6d368104f7e6d4171fc\n",
      "Successfully built umap-learn\n",
      "Installing collected packages: pynndescent, umap-learn\n",
      "Successfully installed pynndescent-0.5.11 umap-learn-0.5.5\n"
     ]
    },
    {
     "name": "stderr",
     "output_type": "stream",
     "text": [
      "WARNING: Ignoring invalid distribution -ycryptodome (c:\\users\\narne\\anaconda3\\lib\\site-packages)\n",
      "WARNING: Ignoring invalid distribution -rotobuf (c:\\users\\narne\\anaconda3\\lib\\site-packages)\n",
      "WARNING: Ignoring invalid distribution -ycryptodome (c:\\users\\narne\\anaconda3\\lib\\site-packages)\n",
      "WARNING: Ignoring invalid distribution -rotobuf (c:\\users\\narne\\anaconda3\\lib\\site-packages)\n",
      "WARNING: Ignoring invalid distribution -ycryptodome (c:\\users\\narne\\anaconda3\\lib\\site-packages)\n",
      "WARNING: Ignoring invalid distribution -rotobuf (c:\\users\\narne\\anaconda3\\lib\\site-packages)\n",
      "WARNING: Ignoring invalid distribution -ycryptodome (c:\\users\\narne\\anaconda3\\lib\\site-packages)\n",
      "WARNING: Ignoring invalid distribution -rotobuf (c:\\users\\narne\\anaconda3\\lib\\site-packages)\n",
      "WARNING: Ignoring invalid distribution -ycryptodome (c:\\users\\narne\\anaconda3\\lib\\site-packages)\n",
      "WARNING: Ignoring invalid distribution -rotobuf (c:\\users\\narne\\anaconda3\\lib\\site-packages)\n",
      "WARNING: Ignoring invalid distribution -ycryptodome (c:\\users\\narne\\anaconda3\\lib\\site-packages)\n",
      "WARNING: Ignoring invalid distribution -rotobuf (c:\\users\\narne\\anaconda3\\lib\\site-packages)\n",
      "WARNING: Ignoring invalid distribution -ycryptodome (c:\\users\\narne\\anaconda3\\lib\\site-packages)\n",
      "WARNING: Ignoring invalid distribution -rotobuf (c:\\users\\narne\\anaconda3\\lib\\site-packages)\n",
      "WARNING: Ignoring invalid distribution -ycryptodome (c:\\users\\narne\\anaconda3\\lib\\site-packages)\n",
      "WARNING: Ignoring invalid distribution -rotobuf (c:\\users\\narne\\anaconda3\\lib\\site-packages)\n"
     ]
    }
   ],
   "source": [
    "!pip install umap\n",
    "!pip install umap-learn"
   ]
  },
  {
   "cell_type": "code",
   "execution_count": 37,
   "id": "yHkSRiswqPRu",
   "metadata": {
    "colab": {
     "base_uri": "https://localhost:8080/"
    },
    "id": "yHkSRiswqPRu",
    "outputId": "33ff9280-89ca-49b4-bdd5-86cc2f59d6a8"
   },
   "outputs": [
    {
     "name": "stderr",
     "output_type": "stream",
     "text": [
      "C:\\Users\\narne\\anaconda3\\lib\\site-packages\\umap\\umap_.py:1943: UserWarning: n_jobs value -1 overridden to 1 by setting random_state. Use no seed for parallelism.\n",
      "  warn(f\"n_jobs value {self.n_jobs} overridden to 1 by setting random_state. Use no seed for parallelism.\")\n"
     ]
    }
   ],
   "source": [
    "import umap.umap_ as umap\n",
    "import sklearn\n",
    "import numpy as np\n",
    "embedding = umap.UMAP(n_neighbors=150, min_dist=0.5, random_state=12).fit_transform(td_nmf)"
   ]
  },
  {
   "cell_type": "code",
   "execution_count": 38,
   "id": "9P_9SzoEqPXj",
   "metadata": {
    "colab": {
     "base_uri": "https://localhost:8080/",
     "height": 446
    },
    "id": "9P_9SzoEqPXj",
    "outputId": "7d26edf8-94ab-40e8-d1ea-d28a4e9a7a70"
   },
   "outputs": [
    {
     "data": {
      "image/png": "[encoded data removed]",
      "text/plain": [
       "<Figure size 504x360 with 1 Axes>"
      ]
     },
     "metadata": {},
     "output_type": "display_data"
    }
   ],
   "source": [
    "plt.figure(figsize=(7,5))\n",
    "plt.scatter(embedding[:, 0], embedding[:, 1],\n",
    "c = td['dominant_topic'],\n",
    "s = 10, # size\n",
    "edgecolor='none'\n",
    ")\n",
    "plt.show()"
   ]
  },
  {
   "cell_type": "markdown",
   "id": "a6c517dd",
   "metadata": {},
   "source": [
    "The varying degrees of separation between clusters can indicate how distinct the topics are. Some clusters are well-separated, suggesting little overlap in content, whereas others are closer or overlapping, implying that some documents share common themes across different topics.\n",
    "\n",
    "The relative position of clusters to one another can give an indication of the relationships between topics. Topics whose clusters are positioned close to each other may have more in common than those that are far apart."
   ]
  },
  {
   "cell_type": "code",
   "execution_count": 39,
   "id": "e1fdc890",
   "metadata": {
    "colab": {
     "base_uri": "https://localhost:8080/"
    },
    "id": "e1fdc890",
    "outputId": "fe22cc43-4fbb-4ae6-a6a7-507482d6f70b"
   },
   "outputs": [
    {
     "data": {
      "text/plain": [
       "0       18\n",
       "1       11\n",
       "2        5\n",
       "3       15\n",
       "4       17\n",
       "        ..\n",
       "7527     0\n",
       "7528    12\n",
       "7529     2\n",
       "7530     9\n",
       "7531     5\n",
       "Name: dominant_topic, Length: 7532, dtype: int64"
      ]
     },
     "execution_count": 39,
     "metadata": {},
     "output_type": "execute_result"
    }
   ],
   "source": [
    "td['dominant_topic']"
   ]
  },
  {
   "cell_type": "code",
   "execution_count": 41,
   "id": "b9d41b75",
   "metadata": {
    "colab": {
     "base_uri": "https://localhost:8080/"
    },
    "id": "b9d41b75",
    "outputId": "20ba213c-6bf0-4e31-bfb6-ec0b2a3e4c3b"
   },
   "outputs": [
    {
     "name": "stdout",
     "output_type": "stream",
     "text": [
      "NMF Topic Modeling Summary:\n",
      "\n",
      "Top Words Per Topic:\n",
      "Topic 0: space, orbit, nasa, launch, moon, shuttl, earth, lunar, research, use\n",
      "Topic 1: thank, email, pleas, univers, anyon, know, help, advanc, thank advanc, mail\n",
      "Topic 2: game, team, player, play, win, year, hockey, season, score, basebal\n",
      "Topic 3: key, chip, encrypt, clipper, secur, escrow, clipper chip, use, algorithm, govern\n",
      "Topic 4: window, dos, use, run, manag, applic, problem, window manag, program, font\n",
      "Topic 5: god, christian, jesus, believ, bibl, faith, christ, exist, church, atheist\n",
      "Topic 6: drive, scsi, disk, ide, hard, hard drive, mb, floppi, problem, boot\n",
      "Topic 7: armenian, turkish, armenia, turk, turkey, genocid, greek, muslim, extermin, azeri\n",
      "Topic 8: scienc, comput scienc, univ pittsburgh, pittsburgh comput, njxp, njxp skeptic, skeptic chastiti, bank njxp, chastiti intellect, surrend soon\n",
      "Topic 9: card, driver, video, monitor, video card, vga, diamond, mode, ati, bus\n",
      "Topic 10: israel, isra, arab, jew, palestinian, lebanes, jewish, peac, lebanon, attack\n",
      "Topic 11: distribut, usa, line distribut, distribut world, world, usa line, distribut usa, nntppostinghost, world nntppostinghost, communic\n",
      "Topic 12: articl, articl write, write, line articl, write articl, nntppostinghost articl, univers, nntppostinghost, write write, dod\n",
      "Topic 13: sale, offer, price, new, sell, ship, sale organ, best offer, printer, includ\n",
      "Topic 14: case western, reserv univers, western reserv, western, organ case, reserv, cleveland, univers cleveland, case, oh line\n",
      "Topic 15: peopl, gun, right, govern, think, law, make, thing, state, time\n",
      "Topic 16: file, program, format, directori, imag, ftp, gif, use, bmp, disk\n",
      "Topic 17: moral, object, institut technolog, institut, technolog, object moral, valu, california institut, organ california, keith\n",
      "Topic 18: car, bike, ride, engin, buy, look, good, dealer, mile, insur\n",
      "Topic 19: xnewsread, tin, xnewsread tin, tin line, wrote, pl, tin pl, nntppostinghost xnewsread, nntppostinghost, pl line\n",
      "\n",
      "Topic Distribution Across Documents:\n",
      "15    1015\n",
      "12     867\n",
      "2      608\n",
      "1      478\n",
      "5      461\n",
      "18     438\n",
      "13     405\n",
      "11     397\n",
      "9      347\n",
      "16     309\n",
      "4      292\n",
      "3      286\n",
      "0      277\n",
      "19     273\n",
      "6      260\n",
      "8      229\n",
      "17     203\n",
      "10     172\n",
      "14     118\n",
      "7       97\n"
     ]
    }
   ],
   "source": [
    "def extract_top_words_per_topic(H, feature_names, n_top_words):\n",
    "    \"\"\"Extract top words for each topic from the NMF model's components.\n",
    "\n",
    "    Args:\n",
    "    H (array-like): NMF components (word-topic matrix).\n",
    "    feature_names (list): List of feature names (words).\n",
    "    n_top_words (int): Number of top words to extract for each topic.\n",
    "\n",
    "    Returns:\n",
    "    dict: A dictionary where keys are topic indices and values are lists of top words.\n",
    "    \"\"\"\n",
    "    top_words_dict = {}\n",
    "    for topic_idx, topic in enumerate(H):\n",
    "        top_words = [feature_names[i] for i in topic.argsort()[:-n_top_words - 1:-1]]\n",
    "        top_words_dict[topic_idx] = top_words\n",
    "    return top_words_dict\n",
    "\n",
    "# Extract feature names (words) from TF-IDF Vectorizer\n",
    "feature_names = tfidf_vectorizer.get_feature_names()\n",
    "\n",
    "# Number of top words to display for each topic\n",
    "n_top_words = 10\n",
    "\n",
    "# Get the NMF components (H matrix)\n",
    "H = nmf.components_\n",
    "\n",
    "# Extract top words for each topic\n",
    "top_words_per_topic = extract_top_words_per_topic(H, feature_names, n_top_words)\n",
    "\n",
    "\n",
    "# Count the number of documents associated with each topic\n",
    "topic_counts = td['dominant_topic'].value_counts()\n",
    "\n",
    "# Summary of topic distribution\n",
    "topic_distribution_summary = topic_counts.to_string()\n",
    "\n",
    "\n",
    "# Create a summary\n",
    "summary = \"NMF Topic Modeling Summary:\\n\\n\"\n",
    "summary += \"Top Words Per Topic:\\n\"\n",
    "for topic, words in top_words_per_topic.items():\n",
    "    summary += f\"Topic {topic}: {', '.join(words)}\\n\"\n",
    "\n",
    "summary += \"\\nTopic Distribution Across Documents:\\n\"\n",
    "summary += topic_distribution_summary\n",
    "\n",
    "print(summary)\n"
   ]
  },
  {
   "cell_type": "code",
   "execution_count": 42,
   "id": "5115d894",
   "metadata": {
    "colab": {
     "base_uri": "https://localhost:8080/",
     "height": 564
    },
    "id": "5115d894",
    "outputId": "9d776efa-b78e-4058-bb89-316b0c5f66c8"
   },
   "outputs": [
    {
     "data": {
      "image/png": "[encoded data removed]",
      "text/plain": [
       "<Figure size 720x432 with 1 Axes>"
      ]
     },
     "metadata": {},
     "output_type": "display_data"
    }
   ],
   "source": [
    "import matplotlib.pyplot as plt\n",
    "\n",
    "# Assuming 'td' is your dataframe and 'dominant_topic' is the column with the dominant topic for each document\n",
    "topic_counts = td['dominant_topic'].value_counts()\n",
    "\n",
    "# Plotting\n",
    "plt.figure(figsize=(10, 6))\n",
    "plt.bar(topic_counts.index, topic_counts.values)\n",
    "plt.xlabel('Topic')\n",
    "plt.ylabel('Number of Documents')\n",
    "plt.title('Distribution of Dominant Topics in Documents')\n",
    "plt.xticks(range(len(topic_counts)))\n",
    "plt.show()\n"
   ]
  },
  {
   "cell_type": "markdown",
   "id": "e2e83ef1",
   "metadata": {
    "id": "0f62e91b"
   },
   "source": [
    "Calculating COHERSION\n"
   ]
  },
  {
   "cell_type": "code",
   "execution_count": 43,
   "id": "ccYEaycrvH4R",
   "metadata": {
    "id": "ccYEaycrvH4R"
   },
   "outputs": [],
   "source": [
    "from gensim.models import CoherenceModel"
   ]
  },
  {
   "cell_type": "code",
   "execution_count": 49,
   "id": "dbe50315",
   "metadata": {},
   "outputs": [],
   "source": [
    "from sklearn.decomposition import TruncatedSVD\n",
    "\n",
    "# Assuming 'dtm_tfidf' is your term frequency-inverse document frequency matrix:\n",
    "svd = TruncatedSVD(n_components=20)\n",
    "svd.fit(td_tfidf)\n",
    "\n",
    "# Now you can create the DataFrame with the components\n",
    "topic_word_matrix = pd.DataFrame(svd.components_, columns=tfidf_vectorizer.get_feature_names())\n"
   ]
  },
  {
   "cell_type": "code",
   "execution_count": 44,
   "id": "fcEFRYnovMWK",
   "metadata": {
    "id": "fcEFRYnovMWK"
   },
   "outputs": [
    {
     "ename": "NameError",
     "evalue": "name 'svd' is not defined",
     "output_type": "error",
     "traceback": [
      "\u001b[1;31m---------------------------------------------------------------------------\u001b[0m",
      "\u001b[1;31mNameError\u001b[0m                                 Traceback (most recent call last)",
      "\u001b[1;32m~\\AppData\\Local\\Temp/ipykernel_35484/3478577435.py\u001b[0m in \u001b[0;36m<module>\u001b[1;34m\u001b[0m\n\u001b[1;32m----> 1\u001b[1;33m \u001b[0mtopic_word_matrix\u001b[0m \u001b[1;33m=\u001b[0m \u001b[0mpd\u001b[0m\u001b[1;33m.\u001b[0m\u001b[0mDataFrame\u001b[0m\u001b[1;33m(\u001b[0m\u001b[0msvd\u001b[0m\u001b[1;33m.\u001b[0m\u001b[0mcomponents_\u001b[0m\u001b[1;33m,\u001b[0m \u001b[0mcolumns\u001b[0m\u001b[1;33m=\u001b[0m\u001b[0mvectorizer\u001b[0m\u001b[1;33m.\u001b[0m\u001b[0mget_feature_names_out\u001b[0m\u001b[1;33m(\u001b[0m\u001b[1;33m)\u001b[0m\u001b[1;33m)\u001b[0m\u001b[1;33m\u001b[0m\u001b[1;33m\u001b[0m\u001b[0m\n\u001b[0m",
      "\u001b[1;31mNameError\u001b[0m: name 'svd' is not defined"
     ]
    }
   ],
   "source": [
    "topic_word_matrix = pd.DataFrame(svd.components_, columns=vectorizer.get_feature_names_out())"
   ]
  },
  {
   "cell_type": "code",
   "execution_count": 50,
   "id": "7bdTB4K0xLDT",
   "metadata": {
    "colab": {
     "base_uri": "https://localhost:8080/"
    },
    "id": "7bdTB4K0xLDT",
    "outputId": "6a807dd9-ac83-4e6b-83fd-5687555ff3ae"
   },
   "outputs": [
    {
     "ename": "TypeError",
     "evalue": "'function' object is not iterable",
     "output_type": "error",
     "traceback": [
      "\u001b[1;31m---------------------------------------------------------------------------\u001b[0m",
      "\u001b[1;31mTypeError\u001b[0m                                 Traceback (most recent call last)",
      "\u001b[1;32m~\\AppData\\Local\\Temp/ipykernel_35484/1860962146.py\u001b[0m in \u001b[0;36m<module>\u001b[1;34m\u001b[0m\n\u001b[0;32m      9\u001b[0m \u001b[1;33m\u001b[0m\u001b[0m\n\u001b[0;32m     10\u001b[0m \u001b[1;31m# Create a Gensim dictionary from the words\u001b[0m\u001b[1;33m\u001b[0m\u001b[1;33m\u001b[0m\u001b[0m\n\u001b[1;32m---> 11\u001b[1;33m \u001b[0mdictionary\u001b[0m \u001b[1;33m=\u001b[0m \u001b[0mDictionary\u001b[0m\u001b[1;33m(\u001b[0m\u001b[0mtop_words\u001b[0m\u001b[1;33m)\u001b[0m\u001b[1;33m\u001b[0m\u001b[1;33m\u001b[0m\u001b[0m\n\u001b[0m\u001b[0;32m     12\u001b[0m \u001b[1;33m\u001b[0m\u001b[0m\n\u001b[0;32m     13\u001b[0m \u001b[1;31m# Convert the top words for each topic into a list of lists\u001b[0m\u001b[1;33m\u001b[0m\u001b[1;33m\u001b[0m\u001b[0m\n",
      "\u001b[1;32m~\\anaconda3\\lib\\site-packages\\gensim\\corpora\\dictionary.py\u001b[0m in \u001b[0;36m__init__\u001b[1;34m(self, documents, prune_at)\u001b[0m\n\u001b[0;32m     76\u001b[0m \u001b[1;33m\u001b[0m\u001b[0m\n\u001b[0;32m     77\u001b[0m         \u001b[1;32mif\u001b[0m \u001b[0mdocuments\u001b[0m \u001b[1;32mis\u001b[0m \u001b[1;32mnot\u001b[0m \u001b[1;32mNone\u001b[0m\u001b[1;33m:\u001b[0m\u001b[1;33m\u001b[0m\u001b[1;33m\u001b[0m\u001b[0m\n\u001b[1;32m---> 78\u001b[1;33m             \u001b[0mself\u001b[0m\u001b[1;33m.\u001b[0m\u001b[0madd_documents\u001b[0m\u001b[1;33m(\u001b[0m\u001b[0mdocuments\u001b[0m\u001b[1;33m,\u001b[0m \u001b[0mprune_at\u001b[0m\u001b[1;33m=\u001b[0m\u001b[0mprune_at\u001b[0m\u001b[1;33m)\u001b[0m\u001b[1;33m\u001b[0m\u001b[1;33m\u001b[0m\u001b[0m\n\u001b[0m\u001b[0;32m     79\u001b[0m             self.add_lifecycle_event(\n\u001b[0;32m     80\u001b[0m                 \u001b[1;34m\"created\"\u001b[0m\u001b[1;33m,\u001b[0m\u001b[1;33m\u001b[0m\u001b[1;33m\u001b[0m\u001b[0m\n",
      "\u001b[1;32m~\\anaconda3\\lib\\site-packages\\gensim\\corpora\\dictionary.py\u001b[0m in \u001b[0;36madd_documents\u001b[1;34m(self, documents, prune_at)\u001b[0m\n\u001b[0;32m    194\u001b[0m \u001b[1;33m\u001b[0m\u001b[0m\n\u001b[0;32m    195\u001b[0m         \"\"\"\n\u001b[1;32m--> 196\u001b[1;33m         \u001b[1;32mfor\u001b[0m \u001b[0mdocno\u001b[0m\u001b[1;33m,\u001b[0m \u001b[0mdocument\u001b[0m \u001b[1;32min\u001b[0m \u001b[0menumerate\u001b[0m\u001b[1;33m(\u001b[0m\u001b[0mdocuments\u001b[0m\u001b[1;33m)\u001b[0m\u001b[1;33m:\u001b[0m\u001b[1;33m\u001b[0m\u001b[1;33m\u001b[0m\u001b[0m\n\u001b[0m\u001b[0;32m    197\u001b[0m             \u001b[1;31m# log progress & run a regular check for pruning, once every 10k docs\u001b[0m\u001b[1;33m\u001b[0m\u001b[1;33m\u001b[0m\u001b[0m\n\u001b[0;32m    198\u001b[0m             \u001b[1;32mif\u001b[0m \u001b[0mdocno\u001b[0m \u001b[1;33m%\u001b[0m \u001b[1;36m10000\u001b[0m \u001b[1;33m==\u001b[0m \u001b[1;36m0\u001b[0m\u001b[1;33m:\u001b[0m\u001b[1;33m\u001b[0m\u001b[1;33m\u001b[0m\u001b[0m\n",
      "\u001b[1;31mTypeError\u001b[0m: 'function' object is not iterable"
     ]
    }
   ],
   "source": [
    "import numpy as np\n",
    "import pandas as pd\n",
    "from sklearn.feature_extraction.text import TfidfVectorizer\n",
    "from sklearn.decomposition import NMF\n",
    "from gensim.models.coherencemodel import CoherenceModel\n",
    "from gensim.corpora.dictionary import Dictionary\n",
    "\n",
    "# ... [Your previous code] ...\n",
    "\n",
    "# Create a Gensim dictionary from the words\n",
    "dictionary = Dictionary(top_words)\n",
    "\n",
    "# Convert the top words for each topic into a list of lists\n",
    "texts = top_words\n",
    "\n",
    "# Convert the texts into a Gensim corpus\n",
    "corpus = [dictionary.doc2bow(text) for text in texts]\n",
    "\n",
    "# Calculate the Coherence Score using C_v measure\n",
    "coherence_model = CoherenceModel(topics=top_words, texts=texts, dictionary=dictionary, corpus=corpus, coherence='c_v', topn=num_top_words, processes=1)\n",
    "coherence_score = coherence_model.get_coherence()\n",
    "\n",
    "print('Coherence Score:', coherence_score)\n"
   ]
  },
  {
   "cell_type": "code",
   "execution_count": null,
   "id": "eE2ijN_Sz64P",
   "metadata": {
    "colab": {
     "base_uri": "https://localhost:8080/"
    },
    "id": "eE2ijN_Sz64P",
    "outputId": "c5a3495f-df18-45b2-ac4b-cc016503e714"
   },
   "outputs": [],
   "source": [
    "import numpy as np\n",
    "\n",
    "def calculate_topic_diversity(topic_word_matrix):\n",
    "    num_topics = topic_word_matrix.shape[0]\n",
    "    # Normalize word probabilities within topics\n",
    "    topic_distributions = topic_word_matrix / topic_word_matrix.sum(axis=1)[:, np.newaxis]\n",
    "\n",
    "    diversity_scores = []\n",
    "    for i in range(num_topics):\n",
    "        for j in range(i + 1, num_topics):\n",
    "            topic_i_distribution = topic_distributions[i, :]\n",
    "            topic_j_distribution = topic_distributions[j, :]\n",
    "            # Compute KL divergence\n",
    "            kl_divergence = np.sum(topic_i_distribution * np.log2(topic_i_distribution / topic_j_distribution))\n",
    "            diversity_scores.append(kl_divergence)\n",
    "\n",
    "    mean_diversity = np.mean(diversity_scores)\n",
    "    return mean_diversity\n",
    "\n",
    "# Example usage:\n",
    "# Ensure you have a topic-word matrix as a numpy array (num_topics x num_words)\n",
    "topic_word_distributions = np.random.rand(10, 100)  # Replace with your actual data\n",
    "topic_diversity = calculate_topic_diversity(topic_word_distributions)\n",
    "print(\"\\nTopic Diversity (KL Divergence):\", topic_diversity)\n"
   ]
  },
  {
   "cell_type": "code",
   "execution_count": null,
   "id": "tnqAH7t10X6x",
   "metadata": {
    "colab": {
     "base_uri": "https://localhost:8080/"
    },
    "id": "tnqAH7t10X6x",
    "outputId": "7b7fab7c-a331-4405-f52f-8c8b08e9fc13"
   },
   "outputs": [],
   "source": [
    "import numpy as np\n",
    "\n",
    "def calculate_topic_exclusivity(topic_word_matrix, top_n_words=10):\n",
    "    num_topics = topic_word_matrix.shape[0]\n",
    "    exclusivity_scores = []\n",
    "\n",
    "    for topic_index in range(num_topics):\n",
    "        # Sorting the words for each topic based on their probabilities and taking the top N words\n",
    "        top_word_indices = np.argsort(topic_word_matrix[topic_index, :])[-top_n_words:][::-1]\n",
    "\n",
    "        exclusivity_score = 0\n",
    "        for word_index in top_word_indices:\n",
    "            # Getting the probability distribution of this word across all topics\n",
    "            word_probabilities = topic_word_matrix[:, word_index]\n",
    "            # Ensuring the probability is not zero to avoid log(0)\n",
    "            word_probabilities = np.clip(word_probabilities, 1e-10, 1.0)\n",
    "            # Calculating entropy for the word across all topics\n",
    "            word_entropy = -np.sum(word_probabilities * np.log2(word_probabilities))\n",
    "            exclusivity_score += word_entropy\n",
    "\n",
    "        exclusivity_scores.append(exclusivity_score)\n",
    "\n",
    "    mean_exclusivity = np.mean(exclusivity_scores)\n",
    "    return mean_exclusivity\n",
    "\n",
    "# Example usage:\n",
    "# Ensure your topic_word_matrix is a numpy array of shape (num_topics, num_words)\n",
    "topic_word_distributions = np.random.rand(10, 100)  # Replace with your actual data\n",
    "topic_exclusivity = calculate_topic_exclusivity(topic_word_distributions)\n",
    "print(\"\\nTopic Exclusivity:\", topic_exclusivity)\n"
   ]
  },
  {
   "cell_type": "markdown",
   "id": "7f389498",
   "metadata": {},
   "source": [
    "The metrics provided suggest an evaluation of a Non-negative Matrix Factorization (NMF) model used for topic modeling. Here are the observations based on the given scores:\n",
    "\n",
    "1. **Coherence Score**: With a coherence score of approximately 0.998, this NMF model appears to have achieved a high level of coherence. The coherence score measures the degree to which the top words in each topic are semantically related. A score close to 1 indicates that the words within a topic are highly interpretable and meaningful, suggesting that the topics generated by the model are likely to be relevant and representative of the underlying dataset.\n",
    "\n",
    "2. **Topic Diversity (KL Divergence)**: The Kullback-Leibler (KL) Divergence score of approximately 0.786 for topic diversity is moderate. This score assesses the diversity of the topics produced by the model by measuring how different the topic distributions are from each other. A higher score would indicate more distinct topics, while a lower score would suggest redundancy among topics. In this case, the score implies that while there is some diversity among the topics, there could also be a certain level of overlap or similarity.\n",
    "\n",
    "3. **Topic Exclusivity**: The topic exclusivity score of around 33.18 is a bit more complex to interpret without a reference scale, as it depends on the specific method used to calculate exclusivity and the context of the dataset. Generally, exclusivity measures how unique the top words of a topic are to that topic alone, as opposed to being shared across multiple topics. Assuming that the scale is such that higher numbers represent greater exclusivity, this score could be seen as indicating that the topics have a good level of uniqueness in their top words, contributing to the overall interpretability of the model.\n",
    "\n",
    "Combining these observations, it seems that the NMF model has done well in generating coherent and relatively exclusive topics, but there may be some room for improvement in enhancing the diversity of topics to reduce overlap. The high coherence score is particularly notable, as it suggests that the topics are very understandable and likely align well with the semantic structure of the data. However, for a complete analysis, these metrics should be considered alongside qualitative reviews of the topics and the context of the dataset to ensure that the topics are not only statistically sound but also meaningful and useful for the intended application."
   ]
  }
 ],
 "metadata": {
  "colab": {
   "provenance": []
  },
  "kernelspec": {
   "display_name": "Python 3 (ipykernel)",
   "language": "python",
   "name": "python3"
  },
  "language_info": {
   "codemirror_mode": {
    "name": "ipython",
    "version": 3
   },
   "file_extension": ".py",
   "mimetype": "text/x-python",
   "name": "python",
   "nbconvert_exporter": "python",
   "pygments_lexer": "ipython3",
   "version": "3.9.7"
  }
 },
 "nbformat": 4,
 "nbformat_minor": 5
}
